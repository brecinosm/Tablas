{
 "cells": [
  {
   "cell_type": "code",
   "execution_count": 2,
   "id": "08448103",
   "metadata": {},
   "outputs": [
    {
     "name": "stdout",
     "output_type": "stream",
     "text": [
      "Introduce el código C++ (termina con una línea vacía):\n",
      "int redes = 100;\n",
      "it = 100+1;\n",
      "\n",
      "\n",
      "Clave\tToken\n",
      "0000\tint\n",
      "0004\tredes\n",
      "0010\t=\n",
      "0012\t100\n",
      "0015\t;\n",
      "0100\tit\n",
      "0103\t=\n",
      "0105\t100\n",
      "0108\t+\n",
      "0109\t1\n",
      "0110\t;\n"
     ]
    }
   ],
   "source": [
    "import re\n",
    "\n",
    "def tokenize_cpp_code(code):\n",
    "    # Expresión regular para dividir el código en tokens\n",
    "    token_pattern = re.compile(r'\\w+|[=;+-/*]')\n",
    "    \n",
    "    tokens = []\n",
    "    lines = code.split('\\n')\n",
    "    for row_idx, line in enumerate(lines):\n",
    "        for match in token_pattern.finditer(line):\n",
    "            token = match.group(0)\n",
    "            col_idx = match.start()\n",
    "            tokens.append(((row_idx, col_idx), token))\n",
    "    \n",
    "    return tokens\n",
    "\n",
    "def main():\n",
    "    print(\"Introduce el código C++ (termina con una línea vacía):\")\n",
    "    cpp_code_lines = []\n",
    "    while True:\n",
    "        line = input()\n",
    "        if line == \"\":\n",
    "            break\n",
    "        cpp_code_lines.append(line)\n",
    "    \n",
    "    cpp_code = \"\\n\".join(cpp_code_lines)\n",
    "    \n",
    "    tokens = tokenize_cpp_code(cpp_code)\n",
    "    \n",
    "    # Crear una tabla hash para almacenar los tokens y sus coordenadas\n",
    "    hash_table = {}\n",
    "    for coord, token in tokens:\n",
    "        key = f\"{coord[0]:02}{coord[1]:02}\"\n",
    "        hash_table[key] = token\n",
    "    \n",
    "    # Imprimir la tabla hash\n",
    "    print(\"\\nClave\\tToken\")\n",
    "    for key, token in sorted(hash_table.items()):\n",
    "        print(f\"{key}\\t{token}\")\n",
    "\n",
    "if __name__ == \"__main__\":\n",
    "    main()\n"
   ]
  },
  {
   "cell_type": "code",
   "execution_count": null,
   "id": "f03d4ce9",
   "metadata": {},
   "outputs": [],
   "source": []
  }
 ],
 "metadata": {
  "kernelspec": {
   "display_name": "Python 3 (ipykernel)",
   "language": "python",
   "name": "python3"
  },
  "language_info": {
   "codemirror_mode": {
    "name": "ipython",
    "version": 3
   },
   "file_extension": ".py",
   "mimetype": "text/x-python",
   "name": "python",
   "nbconvert_exporter": "python",
   "pygments_lexer": "ipython3",
   "version": "3.11.5"
  }
 },
 "nbformat": 4,
 "nbformat_minor": 5
}
